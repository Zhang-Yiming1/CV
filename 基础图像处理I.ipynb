{
 "cells": [
  {
   "cell_type": "markdown",
   "metadata": {},
   "source": [
    "\n",
    "<img src=\"https://img.kaikeba.com/web/hcTech/img_logo.png\" alt=\"图片替换文本\" width=\"500\" height=\"150\" align=\"bottom\" />"
   ]
  },
  {
   "cell_type": "markdown",
   "metadata": {},
   "source": [
    "# 目录\n",
    "<font color=green size=4 face=雅黑>\n",
    "- 图像读写 \n",
    "- 图像基本属性:图像大小、数据类型、通道、颜色空间等 \n",
    "- 图像 ROI\n",
    "- 图像γ值转换\n",
    "- 图像相似性变换 \n",
    "- 图像仿射变换\n",
    "- 图像投影变换   \n",
    "- 图像一阶、二阶导数\n",
    "- 图像卷积\n",
    "- 图像导数、卷积的关系与应用: 边缘检测、锐化、模糊 \n"
   ]
  },
  {
   "cell_type": "markdown",
   "metadata": {},
   "source": [
    "       \n",
    " \n",
    "```python\n",
    "import cv2\n",
    "img = cv2.imread(\"故宫.jpg\")\n",
    "print('type of image: ', type(img))\n",
    "print('dtype of image: ', img.dtype)\n",
    "print('dim of image :', img.ndim)\n",
    "print('shape of image :', img.shape)\n",
    "print('size of image :', img.size)\n",
    "print('331*500*3 = ', 331*500*3)\n",
    "```"
   ]
  },
  {
   "cell_type": "markdown",
   "metadata": {},
   "source": [
    "# 图像基本属性: 图像大小、数据类型、通道"
   ]
  },
  {
   "cell_type": "code",
   "execution_count": null,
   "metadata": {
    "scrolled": true
   },
   "outputs": [],
   "source": [
    "# your code\n",
    "import cv2\n",
    "img = cv2.imread(\"故宫.jpg\") \n",
    "\n",
    "print('type of image: ', type(img))\n",
    "print('dtype of image: ', img.dtype)\n",
    "print('dim of image :', img.ndim)\n",
    "print('shape of image :', img.shape)\n",
    "print('size of image :', img.size)\n",
    "print('331*500*3 = ', 331*500*3)\n"
   ]
  },
  {
   "cell_type": "code",
   "execution_count": null,
   "metadata": {
    "scrolled": true
   },
   "outputs": [],
   "source": [
    "print(img[:,:,0])\n",
    "print(\"shape of img[:,:,0] : \", img[:,:,0].shape)"
   ]
  },
  {
   "cell_type": "code",
   "execution_count": null,
   "metadata": {
    "scrolled": true
   },
   "outputs": [],
   "source": [
    "print(img[:,:,1])\n",
    "print(\"shape of img[:,:,1] : \", img[:,:,1].shape)"
   ]
  },
  {
   "cell_type": "code",
   "execution_count": null,
   "metadata": {
    "scrolled": true
   },
   "outputs": [],
   "source": [
    "print(img[:,:,2])\n",
    "print(\"shape of img[:,:,2] : \", img[:,:,2].shape)"
   ]
  },
  {
   "cell_type": "code",
   "execution_count": null,
   "metadata": {
    "scrolled": true
   },
   "outputs": [],
   "source": [
    "print('max value in img : ', img.min())\n",
    "print('min value in imge : ', img.max())"
   ]
  },
  {
   "cell_type": "markdown",
   "metadata": {},
   "source": [
    "# 图像基本属性: 颜色空间"
   ]
  },
  {
   "cell_type": "markdown",
   "metadata": {},
   "source": [
    "请同学，奇思妙想一下，全0的三维矩阵，全255的三维矩阵，会是什么样的图片，请可视化这样的图片？"
   ]
  },
  {
   "cell_type": "code",
   "execution_count": null,
   "metadata": {
    "scrolled": true
   },
   "outputs": [],
   "source": [
    "import numpy as np\n",
    "all_0_array = np.zeros((331,550,3), dtype = np.uint8)"
   ]
  },
  {
   "cell_type": "code",
   "execution_count": null,
   "metadata": {
    "scrolled": true
   },
   "outputs": [],
   "source": [
    "all_255_array = np.full((331,550,3),255, dtype = np.uint8)"
   ]
  },
  {
   "cell_type": "code",
   "execution_count": null,
   "metadata": {
    "scrolled": true
   },
   "outputs": [],
   "source": [
    "all_180_array = np.full((331,550,3),180, dtype = np.uint8)"
   ]
  },
  {
   "cell_type": "code",
   "execution_count": null,
   "metadata": {
    "scrolled": true
   },
   "outputs": [],
   "source": [
    "from matplotlib import pyplot as plt \n",
    " \n",
    "plt.title(\"all 0\") \n",
    "#plt.xlabel(\"x axis caption\") \n",
    "#plt.ylabel(\"y axis caption\") \n",
    "plt.imshow(all_0_array) \n",
    "plt.show()"
   ]
  },
  {
   "cell_type": "code",
   "execution_count": null,
   "metadata": {
    "scrolled": true
   },
   "outputs": [],
   "source": [
    "from matplotlib import pyplot as plt \n",
    " \n",
    "plt.title(\"all 255\") \n",
    "#plt.xlabel(\"x axis caption\") \n",
    "#plt.ylabel(\"y axis caption\") \n",
    "plt.imshow(all_255_array) \n",
    "plt.show()"
   ]
  },
  {
   "cell_type": "code",
   "execution_count": null,
   "metadata": {
    "scrolled": true
   },
   "outputs": [],
   "source": [
    "from matplotlib import pyplot as plt \n",
    " \n",
    "plt.title(\"all 180\") \n",
    "#plt.xlabel(\"x axis caption\") \n",
    "#plt.ylabel(\"y axis caption\") \n",
    "plt.imshow(all_180_array) \n",
    "plt.show()"
   ]
  },
  {
   "cell_type": "markdown",
   "metadata": {},
   "source": [
    "当一些几行代码需要重复使用，可以把它们包装成函数，一行代码调用。"
   ]
  },
  {
   "cell_type": "code",
   "execution_count": null,
   "metadata": {
    "scrolled": true
   },
   "outputs": [],
   "source": [
    "#from matplotlib import pyplot as plt \n",
    "\n",
    "def img_show(x,title_caption):\n",
    "    '''\n",
    "    x is np array\n",
    "    title_caption is str\n",
    "    '''\n",
    "    plt.title(title_caption) \n",
    "    #plt.xlabel(\"x axis caption\") \n",
    "    #plt.ylabel(\"y axis caption\") \n",
    "    plt.imshow(x) \n",
    "    plt.show()"
   ]
  },
  {
   "cell_type": "code",
   "execution_count": null,
   "metadata": {
    "scrolled": true
   },
   "outputs": [],
   "source": [
    "img_show(all_0_array,'all_0_array')"
   ]
  },
  {
   "cell_type": "code",
   "execution_count": null,
   "metadata": {
    "scrolled": true
   },
   "outputs": [],
   "source": [
    "red_img_array = np.full((400,400,3),0,dtype = np.uint8)\n",
    "red_img_array[:,:,0] = np.full((400,400),255)"
   ]
  },
  {
   "cell_type": "code",
   "execution_count": null,
   "metadata": {
    "scrolled": true
   },
   "outputs": [],
   "source": [
    "img_show(red_img_array,'img')"
   ]
  },
  {
   "cell_type": "code",
   "execution_count": null,
   "metadata": {
    "scrolled": true
   },
   "outputs": [],
   "source": [
    "green_img_array = np.full((400,400,3),0,dtype = np.uint8)\n",
    "green_img_array[:,:,1] = np.full((400,400),255)\n",
    "img_show(green_img_array,'img')"
   ]
  },
  {
   "cell_type": "code",
   "execution_count": null,
   "metadata": {
    "scrolled": true
   },
   "outputs": [],
   "source": [
    "blue_img_array = np.full((400,400,3),0,dtype = np.uint8)\n",
    "blue_img_array[:,:,2] = np.full((400,400),255)\n",
    "img_show(blue_img_array,'img')"
   ]
  },
  {
   "cell_type": "markdown",
   "metadata": {},
   "source": [
    "![](彩色空间.gif)"
   ]
  },
  {
   "cell_type": "markdown",
   "metadata": {},
   "source": [
    "\n",
    "\n",
    " <center>\n",
    "<img style=\"zoom:100%;\"\n",
    "src=\"img_rgb.png\">\n",
    "<br>\n",
    "<div style=\"color:black; \"> 彩色图片</div>\n",
    "</center>"
   ]
  },
  {
   "cell_type": "code",
   "execution_count": null,
   "metadata": {
    "scrolled": true
   },
   "outputs": [],
   "source": [
    "plt.imshow(img)\n",
    "plt.show()"
   ]
  },
  {
   "cell_type": "code",
   "execution_count": null,
   "metadata": {
    "scrolled": true
   },
   "outputs": [],
   "source": [
    "# your code\n"
   ]
  },
  {
   "cell_type": "code",
   "execution_count": null,
   "metadata": {
    "scrolled": true
   },
   "outputs": [],
   "source": [
    "\n",
    "img_b = img[:,:,0]\n",
    "img_g = img[:,:,1]\n",
    "img_r = img[:,:,2]\n",
    "\n",
    "Img = np.full((img.shape),0,dtype = np.uint8)\n",
    "Img[:,:,0] = img_r\n",
    "Img[:,:,1] = img_g\n",
    "Img[:,:,2] = img_b\n",
    "\n",
    "plt.imshow(Img)\n",
    "plt.show\n",
    "\n",
    "#img_RGB = img[:,:,(2,1,0)]\n",
    "#img_show(img_RGB,'img_RGB')"
   ]
  },
  {
   "cell_type": "markdown",
   "metadata": {},
   "source": [
    "另外，可以用cv2.cvtColor转换图像的通道"
   ]
  },
  {
   "cell_type": "code",
   "execution_count": null,
   "metadata": {},
   "outputs": [],
   "source": [
    "from matplotlib import pyplot as plt\n",
    "img_new = cv2.cvtColor(img, cv2.COLOR_BGR2RGB)\n",
    "plt.imshow(img_new)\n",
    "plt.show()"
   ]
  },
  {
   "cell_type": "code",
   "execution_count": null,
   "metadata": {},
   "outputs": [],
   "source": [
    "# 显示单通道的图像\n",
    "B, G, R = cv2.split(img)\n",
    "I = cv2.merge([B,G,R])\n",
    "\n",
    "cv2.imshow(\"image\",I)\n",
    "cv2.imshow('B',B)\n",
    "cv2.imshow('G',G)\n",
    "cv2.imshow('R',R)\n",
    "\n",
    "key = cv2.waitKey(0)\n",
    "cv2.destroyAllWindows()"
   ]
  },
  {
   "cell_type": "code",
   "execution_count": null,
   "metadata": {},
   "outputs": [],
   "source": [
    "# img = cv2.imread(\"图片的地址\"，flag)\n",
    "# 像素点"
   ]
  },
  {
   "cell_type": "markdown",
   "metadata": {},
   "source": [
    "# HSI"
   ]
  },
  {
   "cell_type": "markdown",
   "metadata": {},
   "source": [
    "\n",
    " <center>\n",
    "<img style=\"zoom:100%;\"\n",
    "src=\"hsi.gif\">\n",
    "<br>\n",
    "<div style=\"color:black; \"> HSI </div>\n",
    "</center>"
   ]
  },
  {
   "cell_type": "markdown",
   "metadata": {},
   "source": [
    "HSI模型 基于人类对颜色的感觉，HSI模型描述颜色的三个基本特征：   \n",
    "\n",
    "- 色相（Hue, H）是从物体反射或透过物体传播的颜色。在 0 到 360 度的标准色轮上，色相是按位置度量的。在通常的使用中，色相是由颜色名称标识的，比如红、橙或绿色。    \n",
    "\n",
    "- 饱和度（Saturation, S），有时也称彩度，是指颜色的强度或纯度。饱和度表示色相中灰成分所占的比例，用从 0%（灰色）到 100%（完全饱和）的百分比来度量。在标准色轮上，从中心向边缘饱和度是递增的。 \n",
    "\n",
    "- 亮度（Intensity, I）是颜色的相对明暗程度，通常用从 0%（黑）到 100%（白）的百分比来度量。   "
   ]
  },
  {
   "cell_type": "markdown",
   "metadata": {},
   "source": [
    " - RGB 转换为 HSI\n",
    " <center>\n",
    "<img style=\"zoom:70%;\"\n",
    "src=\"hsi公式1.jpeg\">\n",
    "<br>\n",
    "<div style=\"color:black; \"> RGB到HSI </div>\n",
    "</center>"
   ]
  },
  {
   "cell_type": "markdown",
   "metadata": {},
   "source": [
    "# HSV \n",
    "\n",
    "- Hue（色调、色相）\n",
    "- Saturation（饱和度、色彩纯净度）\n",
    "- Value（明度）\n",
    "\n",
    "\n",
    "- HSV与HSI的区别 \n",
    ">hsv里面的v指的是RGB里面的最大的值，v = max(r,g,b)；    \n",
    "而HSI的I是平均值，I=(r+g+b) / 3;     \n",
    "另外两个分量应该是一样的。  \n",
    "\n",
    "> H:  0— 180\n",
    "\n",
    "> S:  0— 255\n",
    "\n",
    "> V:  0— 255"
   ]
  },
  {
   "cell_type": "markdown",
   "metadata": {},
   "source": [
    "\n",
    " <center>\n",
    "<img style=\"zoom:90%;\"\n",
    "src=\"hsv1.png\">\n",
    "<br>\n",
    "<div style=\"color:black; \"> HSV </div>\n",
    "</center>"
   ]
  },
  {
   "cell_type": "code",
   "execution_count": null,
   "metadata": {},
   "outputs": [],
   "source": [
    "\n",
    "from matplotlib import pyplot as plt \n",
    "\n",
    "img_HSV = cv2.cvtColor(img, cv2.COLOR_BGR2HSV) \n",
    "cv2.imshow('img_HSV',img_HSV)\n",
    "\n",
    "cv2.waitKey(0)\n",
    "cv2.destroyAllWindows()"
   ]
  },
  {
   "cell_type": "markdown",
   "metadata": {},
   "source": [
    "# [ OpenCV 文档](https://docs.opencv.org)"
   ]
  },
  {
   "cell_type": "code",
   "execution_count": null,
   "metadata": {},
   "outputs": [],
   "source": [
    "import cv2\n",
    "cv2.__version__"
   ]
  },
  {
   "cell_type": "code",
   "execution_count": null,
   "metadata": {},
   "outputs": [],
   "source": [
    "cv2.xfeatures2d?"
   ]
  },
  {
   "cell_type": "markdown",
   "metadata": {},
   "source": [
    "# 图像 ROI"
   ]
  },
  {
   "cell_type": "code",
   "execution_count": null,
   "metadata": {},
   "outputs": [],
   "source": [
    "import cv2\n",
    "person_bgr = cv2.imread('person.jpeg') \n",
    "person = cv2.cvtColor(person_bgr, cv2.COLOR_BGR2RGB)\n",
    "plt.imshow(person)\n",
    "plt.show()"
   ]
  },
  {
   "cell_type": "code",
   "execution_count": null,
   "metadata": {},
   "outputs": [],
   "source": [
    "import cv2\n",
    "person_bgr = cv2.imread('person.jpeg') \n",
    "person_bgr = person_bgr[0:331,:,:]\n",
    "person = cv2.cvtColor(person_bgr, cv2.COLOR_BGR2RGB)\n",
    "plt.imshow(person)\n",
    "plt.show()\n",
    "\n",
    "print(person.shape)"
   ]
  },
  {
   "cell_type": "code",
   "execution_count": null,
   "metadata": {},
   "outputs": [],
   "source": [
    "print(person.shape)"
   ]
  },
  {
   "cell_type": "markdown",
   "metadata": {},
   "source": [
    "\n",
    "\n",
    " <center>\n",
    "<img style=\"zoom:100%;\"\n",
    "src=\"color_hsv.jpg\">\n",
    "<br>\n",
    "<div style=\"color:black; \"> 颜色的阈值表 </div>\n",
    "</center>"
   ]
  },
  {
   "cell_type": "markdown",
   "metadata": {},
   "source": [
    "`cv.inRange(img_hsv, (h_min, s_min, v_min), (h_max, s_max, v_max))`函数\n",
    "`cv.inRange`函数通过设置不同的`h、s、v`的`min`和`max`阈值可以获取不同色彩的一个二值的`mask`图"
   ]
  },
  {
   "cell_type": "code",
   "execution_count": null,
   "metadata": {},
   "outputs": [],
   "source": [
    "person_hsv = cv2.cvtColor(person_bgr, cv2.COLOR_BGR2HSV)       # 转换成hsv色彩风格\n",
    "mask = cv2.inRange(person_hsv, (26, 43, 46), (34, 255, 255))   # 利用inRange产生mask\n",
    "print(mask.shape)"
   ]
  },
  {
   "cell_type": "code",
   "execution_count": null,
   "metadata": {},
   "outputs": [],
   "source": [
    "cv2.imshow('mask',mask)\n",
    "cv2.waitKey (0) \n",
    "cv2.destroyAllWindows()"
   ]
  },
  {
   "cell_type": "code",
   "execution_count": null,
   "metadata": {},
   "outputs": [],
   "source": [
    "print(mask)"
   ]
  },
  {
   "cell_type": "markdown",
   "metadata": {},
   "source": [
    "cv.bitwise_not(img)\n",
    "\n",
    "按位取反操作函数，将img在R,G,B三个分量分别进行按位取反操作。"
   ]
  },
  {
   "cell_type": "code",
   "execution_count": null,
   "metadata": {},
   "outputs": [],
   "source": [
    "mask1 = cv2.bitwise_not(mask)\n"
   ]
  },
  {
   "cell_type": "code",
   "execution_count": null,
   "metadata": {},
   "outputs": [],
   "source": [
    "cv2.imshow('mask_bitwise',mask1)\n",
    "cv2.waitKey (0) \n",
    "cv2.destroyAllWindows()"
   ]
  },
  {
   "cell_type": "code",
   "execution_count": null,
   "metadata": {},
   "outputs": [],
   "source": [
    "print(mask1)"
   ]
  },
  {
   "cell_type": "markdown",
   "metadata": {},
   "source": [
    "cv.bitwise_and(img1, img2, mask)\n",
    "\n",
    "按位与操作函数，将img1和img2在mask的区域内，R,G,B三个分量分别进行按位与操作。\n"
   ]
  },
  {
   "cell_type": "markdown",
   "metadata": {},
   "source": [
    "cv.bitwise_or(img1, img2, mask)  \n",
    "\n",
    "按位或操作函数，将img1和img2在mask的区域内，R,G,B三个分量分别进行按位或操作。"
   ]
  },
  {
   "cell_type": "code",
   "execution_count": null,
   "metadata": {},
   "outputs": [],
   "source": [
    "person_and_mask1 = cv2.bitwise_and(person, person, mask=mask1)\n",
    "plt.imshow(person_and_mask1)\n",
    "plt.show()"
   ]
  },
  {
   "cell_type": "code",
   "execution_count": null,
   "metadata": {},
   "outputs": [],
   "source": [
    "print(person_and_mask1.shape)"
   ]
  },
  {
   "cell_type": "code",
   "execution_count": null,
   "metadata": {},
   "outputs": [],
   "source": [
    "array = np.uint8(np.full((331,102),255))\n",
    "print(array.shape)"
   ]
  },
  {
   "cell_type": "code",
   "execution_count": null,
   "metadata": {},
   "outputs": [],
   "source": [
    "mask2 = mask[0:331,:]\n",
    "\n",
    "print(mask2.shape)\n",
    "new_mask = np.hstack((mask2, array))\n",
    "print(new_mask.shape)\n",
    "\n"
   ]
  },
  {
   "cell_type": "code",
   "execution_count": null,
   "metadata": {},
   "outputs": [],
   "source": [
    "cv2.imshow('new_mask',new_mask)\n",
    "cv2.waitKey (0) \n",
    "cv2.destroyAllWindows()"
   ]
  },
  {
   "cell_type": "code",
   "execution_count": null,
   "metadata": {},
   "outputs": [],
   "source": [
    "img_and_new_mask = cv2.bitwise_and(img_new, img_new, mask=new_mask)\n",
    "plt.imshow(img_and_new_mask)\n",
    "plt.show()"
   ]
  },
  {
   "cell_type": "code",
   "execution_count": null,
   "metadata": {},
   "outputs": [],
   "source": [
    "array1 = np.uint8(np.full((331,102,3),0))\n",
    "\n",
    "print(array1.shape)\n",
    "print(person_and_mask1.shape)\n",
    "person_and_mask2 = np.hstack((person_and_mask1[0:331,:,:], array1))\n",
    "print(person_and_mask2.shape)"
   ]
  },
  {
   "cell_type": "code",
   "execution_count": null,
   "metadata": {
    "scrolled": true
   },
   "outputs": [],
   "source": [
    "person_and_img = person_and_mask2 + img_and_new_mask\n",
    "img_show(person_and_img,'person_and_img')"
   ]
  },
  {
   "cell_type": "code",
   "execution_count": null,
   "metadata": {},
   "outputs": [],
   "source": [
    "# 扩展 + \n",
    "Img[:,:,0]"
   ]
  },
  {
   "cell_type": "code",
   "execution_count": null,
   "metadata": {},
   "outputs": [],
   "source": [
    "Img[:,:,1]"
   ]
  },
  {
   "cell_type": "code",
   "execution_count": null,
   "metadata": {},
   "outputs": [],
   "source": [
    "I_add = Img[:,:,0] + Img[:,:,1]\n",
    "I_add"
   ]
  },
  {
   "cell_type": "markdown",
   "metadata": {},
   "source": [
    "118+146 = 264 \n",
    "264 \\mod 256 = 8"
   ]
  },
  {
   "cell_type": "markdown",
   "metadata": {},
   "source": [
    "<center>\n",
    "<img style=\"zoom:50%;\"\n",
    "src=\"add_mod.jpeg \">\n",
    "<br>\n",
    "    <div style=\"color:black; \"> </div>\n",
    "</center>"
   ]
  },
  {
   "cell_type": "code",
   "execution_count": null,
   "metadata": {},
   "outputs": [],
   "source": [
    "# cv2.add()\n",
    "I_cv_add = cv2.add(Img[:,:,0], Img[:,:,1])\n",
    "I_cv_add "
   ]
  },
  {
   "cell_type": "markdown",
   "metadata": {},
   "source": [
    "<center>\n",
    "<img style=\"zoom:50%;\"\n",
    "src=\"cv_add.jpeg \">\n",
    "<br>\n",
    "    <div style=\"color:black; \"> </div>\n",
    "</center>"
   ]
  },
  {
   "cell_type": "markdown",
   "metadata": {},
   "source": [
    "```python\n",
    "  dst=cv2.addWeighted(src1, alpha, src2, beta, gamma)\n",
    " ```"
   ]
  },
  {
   "cell_type": "markdown",
   "metadata": {},
   "source": [
    "其中，参数alpha和beta是src1和src2所对应的系数，它们的和可以等于1，也可以不等于1。    \n",
    "\n",
    "该函数实现的功能是dst = src1×alpha + src2×beta + gamma。    \n",
    "\n",
    "需要注意，式中参数gamma的值可以是0，但是该参数是必选参数，不能省略。   \n",
    "\n",
    "可以将上式理解为“结果图像=图像1×系数1+图像2×系数2+亮度调节量”。   "
   ]
  },
  {
   "cell_type": "code",
   "execution_count": null,
   "metadata": {},
   "outputs": [],
   "source": [
    "person_and_img1 = cv2.addWeighted(person_and_mask2,0.8, img_new,1,2)\n",
    "img_show(person_and_img1,'person_and_img1')"
   ]
  },
  {
   "cell_type": "markdown",
   "metadata": {},
   "source": [
    "# 相似变换"
   ]
  },
  {
   "cell_type": "markdown",
   "metadata": {},
   "source": [
    "<center>\n",
    "<img style=\"zoom:40%;\"\n",
    "src=\"x0_y0.png \">\n",
    "<br>\n",
    "    <div style=\"color:black; \"> </div>\n",
    "</center>"
   ]
  },
  {
   "cell_type": "markdown",
   "metadata": {},
   "source": [
    "$$\n",
    "x_0 = R \\cdot \\cos b     \\tag{1}\n",
    "$$\n",
    "\n",
    "$$\n",
    "y_0 = R \\cdot \\sin b    \\tag{2}\n",
    "$$\n",
    "\n",
    "$$\n",
    "x_1 =  R\\cos (a+b)  = R(\\cos b \\cos a - \\sin b \\sin a) =x_0 \\cos a -y_0 \\sin a    \\tag{3}\n",
    "$$\n",
    "\n",
    "$$\n",
    "y_1 =  R \\sin (a+b) = R (\\cos b \\sin a + \\sin b \\cos a) =x_0 \\sin a + y_0 \\cos a     \\tag{4}\n",
    "$$\n",
    "\n",
    "**旋转**\n",
    "\n",
    "$$\n",
    "x_1= Rx_o =  \\begin{bmatrix} \\cos a & -\\sin a \\\\ \\sin a & \\cos a  \\end{bmatrix} \\begin{bmatrix} x_0 \\\\ y_0 \\end{bmatrix} \\tag{5}\n",
    "$$\n",
    "\n",
    "**平移**\n",
    "\n",
    "$$\n",
    "x_1 = [R|t]x_0 =  \\begin{bmatrix} \\cos a & -\\sin a & t_x \\\\ \\sin a & \\cos a  & t_y \\end{bmatrix} \\begin{bmatrix} x_0 \\\\ y_0  \\\\ 1 \\end{bmatrix} \\tag{6}\n",
    "$$\n",
    "\n",
    "**缩放**\n",
    "\n",
    "$$\n",
    "x_1 = s[R|t]x_0 =  s\\begin{bmatrix} \\cos a & -\\sin a & t_x \\\\ \\sin a & \\cos a  & t_y \\end{bmatrix} \\begin{bmatrix} x_0 \\\\ y_0  \\\\ 1 \\end{bmatrix} \\tag{6}\n",
    "$$\n"
   ]
  },
  {
   "cell_type": "markdown",
   "metadata": {},
   "source": [
    "\n",
    "**旋转 (rotation) + 平移 (translation) + 缩放 (scale) = 相似变换 (similarity transform)**"
   ]
  },
  {
   "cell_type": "code",
   "execution_count": null,
   "metadata": {},
   "outputs": [],
   "source": [
    "# 相似变换 \n",
    "import cv2\n",
    "def rotate(img_ori, aug_value, scale):\n",
    "    '''\n",
    "    img_ori: 图像\n",
    "    aug_value:旋转角度\n",
    "    scale:缩放值\n",
    "    M :旋转矩阵\n",
    "    '''\n",
    "    M = cv2.getRotationMatrix2D((0.5*img_ori.shape[1], 0.5*img_ori.shape[0]), aug_value, scale)\n",
    "    new_img = cv2.warpAffine(img_ori, M, (img_ori.shape[1], img_ori.shape[0]))\n",
    "    return new_img\n"
   ]
  },
  {
   "cell_type": "code",
   "execution_count": null,
   "metadata": {},
   "outputs": [],
   "source": [
    "img_bgr = cv2.imread(\"故宫.jpg\")\n",
    "img_rgb = cv2.cvtColor(img, cv2.COLOR_BGR2RGB)\n",
    "\n",
    "new_img = rotate(img_rgb, 45, 0.8)\n",
    "\n",
    "from matplotlib import pyplot as plt \n",
    "plt.imshow(new_img)\n",
    "plt.show()\n"
   ]
  },
  {
   "cell_type": "markdown",
   "metadata": {},
   "source": [
    "# 仿射变换"
   ]
  },
  {
   "cell_type": "markdown",
   "metadata": {},
   "source": [
    "**平移 (Translation) + 缩放 (Scale) + 翻转 (Flip) + 旋转 (Rotation) + 斜切 (Shear) = 仿射变换 (Affine Transform)**"
   ]
  },
  {
   "cell_type": "markdown",
   "metadata": {},
   "source": [
    "<center>\n",
    "<img style=\"zoom:50%;\"\n",
    "src=\"仿射变换.png \">\n",
    "<br>\n",
    "    <div style=\"color:black; \"> </div>\n",
    "</center>"
   ]
  },
  {
   "cell_type": "markdown",
   "metadata": {},
   "source": [
    "斜切\n",
    "<center>\n",
    "<img style=\"zoom:80%;\"\n",
    "src=\"斜切.jpg \">\n",
    "<br>\n",
    "    <div style=\"color:black; \"> </div>\n",
    "</center>"
   ]
  },
  {
   "cell_type": "markdown",
   "metadata": {},
   "source": [
    "y轴\n",
    "\n",
    "$$\n",
    "\\begin{bmatrix} 1 & 0 & 0 \\\\ \\tan \\psi & 1  & 0 \\\\ 0 & 0 & 1\\end{bmatrix} \\begin{bmatrix} x_0 \\\\ y_0  \\\\ 1 \\end{bmatrix} = \\begin{bmatrix} x_0 \\\\ y_0 + \\tan \\psi x_0   \\\\ 1 \\end{bmatrix} \\tag{7}\n",
    "$$\n"
   ]
  },
  {
   "cell_type": "markdown",
   "metadata": {},
   "source": [
    "\n",
    "<center>\n",
    "<img style=\"zoom:50%;\"\n",
    "src=\"仿射变换矩阵.png \">\n",
    "<br>\n",
    "    <div style=\"color:black; \"> </div>\n",
    "</center>"
   ]
  },
  {
   "cell_type": "markdown",
   "metadata": {},
   "source": [
    "$$\n",
    "x_1 = Ax_0 = \\begin{bmatrix} a & b & c \\\\ d & d  & f \\\\ 0 & 0 & 1\\end{bmatrix} \\begin{bmatrix} x_0 \\\\ y_0  \\\\ 1 \\end{bmatrix} \\tag{8}\n",
    "$$"
   ]
  },
  {
   "cell_type": "markdown",
   "metadata": {},
   "source": [
    "cv2.getAffineTransform(src,dst) 该方法就是通过计算参数src到dst的对应仿射变换的矩阵，其中参数src和dst分别代表原坐标和变换后的坐标，并且均为3行2列的二维ndarray,数据必须为浮点型。"
   ]
  },
  {
   "cell_type": "code",
   "execution_count": null,
   "metadata": {},
   "outputs": [],
   "source": [
    "\n",
    "\n",
    "def Affine(img_ori, src, dst):\n",
    "    M = cv2.getAffineTransform(src, dst)\n",
    "    new_img = cv2.warpAffine(img_ori, M, (img_ori.shape[1], img_ori.shape[0]))\n",
    "    return new_img\n",
    "\n"
   ]
  },
  {
   "cell_type": "code",
   "execution_count": null,
   "metadata": {
    "scrolled": true
   },
   "outputs": [],
   "source": [
    "src = np.float32([[50, 50], [200, 50], [50, 200]])\n",
    "dst = np.float32([[10, 100], [200, 50], [100, 250]])\n",
    "\n",
    "new_img = Affine(img_rgb, src, dst)\n",
    "\n",
    "from matplotlib import pyplot as plt \n",
    "plt.imshow(new_img)\n",
    "plt.show()\n"
   ]
  },
  {
   "cell_type": "markdown",
   "metadata": {},
   "source": [
    "# 投影变换"
   ]
  },
  {
   "cell_type": "markdown",
   "metadata": {},
   "source": [
    "**旋转 + 平移 + 缩放 + 切变 + 射影 = 投影变换 (perspective transform)** "
   ]
  },
  {
   "cell_type": "markdown",
   "metadata": {},
   "source": [
    "$$\n",
    "I_1 = PI_0 = \\begin{bmatrix} a & b & c \\\\ d & e  & f \\\\ g & h & 1\\end{bmatrix} \\begin{bmatrix} x_0 \\\\ y_0  \\\\ 1 \\end{bmatrix} \\tag{8}\n",
    "$$"
   ]
  },
  {
   "cell_type": "code",
   "execution_count": null,
   "metadata": {},
   "outputs": [],
   "source": [
    "import cv2\n",
    "import numpy as np\n",
    "from matplotlib import pyplot as plt\n",
    "%matplotlib inline\n",
    "#读取图片\n",
    "img = cv2.imread('车道线2.jpg',1)\n",
    "#读取图片大小信息\n",
    "rows,cols = img.shape[:2] # 848 * 1277\n",
    "\n",
    "#选取原图中需要被转换物体的四个顶点\n",
    "#pts1 = np.float32([[100,550],[1200,550],[500,400],[750,400]])\n",
    "pts1 = np.float32([[0,600],[1277,600],[500,400],[800,400]])\n",
    "\n",
    "#设置在新图像中原图像的四个顶点的位置\n",
    "pts2 = np.float32([[50,800],[1200,800],[50,150],[1200,150]])\n",
    "\n",
    "#计算转换M矩阵\n",
    "M = cv2.getPerspectiveTransform(pts1,pts2)\n",
    "\n",
    "#应用M矩阵到原图像\n",
    "dst = cv2.warpPerspective(img,M,(cols,rows))\n",
    "\n",
    "#plt.figure(figsize = (10,10))#,dpi = 120\n",
    "plt.subplot(121),plt.imshow(img),plt.title('Input')\n",
    "plt.subplot(122),plt.imshow(dst),plt.title('Output')\n",
    "\n",
    "plt.show()\n"
   ]
  },
  {
   "cell_type": "markdown",
   "metadata": {},
   "source": [
    "# 图像灰度变换\n",
    "\n",
    "$$Gray = R*0.299 + G*0.587 + B*0.114 $$\n",
    "\n",
    "## 线性变换\n",
    "\n",
    "$r$ 为变换前的灰度，$s$为变换后的灰度，则线性变换的函数：\n",
    "\n",
    "$$ s = a \\times r + b $$\n",
    "\n",
    "- $a > 1$ 增加图像的对比度\n",
    "\n",
    "- $a < 1$ 减小图像的对比度\n",
    "\n",
    "- $a = 1 且 b \\neq 0$ 图像整体的灰度值上移或者下移，也就是图像整体变亮或者变暗，不会改变图像的对比度。\n",
    "\n",
    "- $a < 0 且 b = 0$ 图像的亮区域变暗，暗区域变亮\n",
    "\n",
    "- $a = -1 且 b = 255$ 图像反转"
   ]
  },
  {
   "cell_type": "code",
   "execution_count": null,
   "metadata": {},
   "outputs": [],
   "source": [
    "import cv2 \n",
    "import numpy as np\n",
    "\n",
    "# 线性变换\n",
    "def linear(img,a,b):\n",
    "    \"\"\"\n",
    "    s =f(r)=ar+b\n",
    "    \"\"\"\n",
    "    r = np.copy(img)\n",
    "    s = a*r+b\n",
    "    return s\n"
   ]
  },
  {
   "cell_type": "code",
   "execution_count": null,
   "metadata": {},
   "outputs": [],
   "source": [
    "\n",
    "if __name__==\"__main__\":\n",
    "    img = cv2.imread(\"故宫.jpg\")\n",
    "    img = cv2.cvtColor(img,cv2.COLOR_RGB2GRAY)\n",
    "    # 调节 a,b值观察图像变化\n",
    "    a = 2\n",
    "    b = 25\n",
    "    re_img = linear(img,a,b)\n",
    "    cv2.imshow('img',img)\n",
    "    cv2.imshow('re_img,a={},b={}'.format(a,b),re_img)\n",
    "    cv2.waitKey(0)\n",
    "    cv2.destroyAllWindows()"
   ]
  },
  {
   "cell_type": "markdown",
   "metadata": {},
   "source": [
    "## 图像γ值转换\n",
    "\n",
    "伽马变换的公式为：\n",
    "\n",
    "$$ s = cr^\\gamma $$\n",
    "\n",
    "$\\gamma<1$ 时，低亮度区域对比度增强    \n",
    "$\\gamma>1$ 时， 高亮度区域对比度增强"
   ]
  },
  {
   "cell_type": "code",
   "execution_count": null,
   "metadata": {},
   "outputs": [],
   "source": [
    "# 非线性变化：γ变换\n",
    "def gamma(img,gamma):\n",
    "    \"\"\"\n",
    "    s = c * r^gamma\n",
    "    \"\"\"\n",
    "    r = np.copy(img)\n",
    "    s = np.power(r/255,gamma)\n",
    "\n",
    "    return s"
   ]
  },
  {
   "cell_type": "code",
   "execution_count": null,
   "metadata": {},
   "outputs": [],
   "source": [
    "if __name__==\"__main__\":\n",
    "    img = cv2.imread(\"dark.jpeg\")\n",
    "    img = cv2.cvtColor(img,cv2.COLOR_RGB2GRAY)\n",
    "    # 调节 γ 值观察图像变化\n",
    "    r = 0.5\n",
    "    re_img = gamma(img,r)\n",
    "    cv2.imshow('img',img)\n",
    "    cv2.imshow('re_img,r={}'.format(r),re_img)\n",
    "    cv2.waitKey(0)\n",
    "    cv2.destroyAllWindows()"
   ]
  },
  {
   "cell_type": "markdown",
   "metadata": {},
   "source": [
    "# 卷积\n",
    "\n",
    "- <font color=green size=4 face=雅黑>  parameters sharing </font>  \n",
    "\n",
    "## 一维卷积\n",
    "\n",
    "\n",
    "<img src=\"https://img-blog.csdnimg.cn/20200326111118318.png?x-oss-process=image/watermark,type_ZmFuZ3poZW5naGVpdGk,shadow_10,text_aHR0cHM6Ly9ibG9nLmNzZG4ubmV0L3UwMTA3NTE5NzQ=,size_16,color_FFFFFF,t_70#pic_center\" alt=\"图片替换文本\" width=\"300\" height=\"200\" align=\"bottom\" />\n",
    "\n",
    "<img src=\"https://img-blog.csdnimg.cn/20200326111317780.png?x-oss-process=image/watermark,type_ZmFuZ3poZW5naGVpdGk,shadow_10,text_aHR0cHM6Ly9ibG9nLmNzZG4ubmV0L3UwMTA3NTE5NzQ=,size_16,color_FFFFFF,t_70#pic_center\" alt=\"图片替换文本\" width=\"300\" height=\"400\" align=\"bottom\" />\n",
    "\n",
    "## 二维卷积\n",
    "\n",
    "<img src=\"https://img-blog.csdnimg.cn/20200303120025220.jpeg?x-oss-process=image/watermark,type_ZmFuZ3poZW5naGVpdGk,shadow_10,text_aHR0cHM6Ly9ibG9nLmNzZG4ubmV0L3UwMTA3NTE5NzQ=,size_16,color_FFFFFF,t_70\" alt=\"图片替换文本\" width=\"400\" height=\"600\" align=\"bottom\" />\n",
    "\n",
    "## 图像卷积\n",
    "\n",
    " <center>\n",
    "<img style=\"zoom:70%;\"\n",
    "src=\"图像卷积.jpg\">\n",
    "<br>\n",
    "<div style=\"color:black; \">  </div>\n",
    "</center>\n"
   ]
  },
  {
   "cell_type": "markdown",
   "metadata": {},
   "source": [
    "# 卷积核有什么作用呢？\n",
    "\n",
    " ## 一阶求导 \n",
    " \n",
    "<img src=\"https://img-blog.csdnimg.cn/20200326141354593.jpg?x-oss-process=image/watermark,type_ZmFuZ3poZW5naGVpdGk,shadow_10,text_aHR0cHM6Ly9ibG9nLmNzZG4ubmV0L3UwMTA3NTE5NzQ=,size_16,color_FFFFFF,t_70#pic_center\" alt=\"图片替换文本\" width=\"700\" height=\"600\" align=\"bottom\" />"
   ]
  },
  {
   "cell_type": "markdown",
   "metadata": {},
   "source": [
    "调用OpenCV的 filter2D() 函数实现边缘提取。该函数主要是利用内核实现对图像的卷积运算。filter2D() 函数用法如下所示：\n",
    "\n",
    "```python\n",
    "dst = filter2D(src, ddepth, kernel[, dst[, anchor[, delta[, borderType]]]])\n",
    "```\n",
    "\n",
    "其中，参数：\n",
    "\n",
    "src 表示输入图像；\n",
    "\n",
    "dst 表示输出的边缘图，其大小和通道数与输入图像相同；\n",
    "\n",
    "ddepth 表示目标图像所需的深度；\n",
    "\n",
    "kernel 表示卷积核，一个单通道浮点型矩阵；\n",
    "\n",
    "anchor 表示内核的基准点，其默认值为 (-1，-1)，位于中心位置；\n",
    "\n",
    "delta 表示在储存目标图像前可选的添加到像素的值，默认值为0；\n",
    "\n",
    "borderType 表示边框模式。"
   ]
  },
  {
   "cell_type": "code",
   "execution_count": null,
   "metadata": {},
   "outputs": [],
   "source": [
    "# -*- coding: utf-8 -*-\n",
    "import cv2\n",
    "import numpy as np\n",
    "import matplotlib.pyplot as plt\n",
    " \n",
    "# 读取图像\n",
    "img = cv2.imread('故宫.jpg')\n",
    "\n",
    "# imread 读的彩色图按照BGR像素存储、转换为RGB\n",
    "img_RGB = cv2.cvtColor(img, cv2.COLOR_BGR2RGB)\n",
    "\n",
    "# 灰度化处理图像\n",
    "grayImage = cv2.cvtColor(img, cv2.COLOR_BGR2GRAY)\n",
    " \n",
    "# Prewitt算子\n",
    "kernelx = np.array([[1, 1, 1], [0, 0, 0], [-1, -1, -1]], dtype=int)\n",
    "kernely = np.array([[-1, 0, 1], [-1, 0, 1], [-1, 0, 1]], dtype=int)\n",
    "x = cv2.filter2D(grayImage, cv2.CV_16S, kernelx)\n",
    "y = cv2.filter2D(grayImage, cv2.CV_16S, kernely) # cv2.CV_16S, 16bites, S（signed integer）是有符号整数\n",
    "\n",
    "# 转uint8 \n",
    "absX = cv2.convertScaleAbs(x)\n",
    "absY = cv2.convertScaleAbs(y)\n",
    "Prewitt = cv2.addWeighted(absX, 0.5, absY, 0.5, 0)\n",
    "\n",
    "# 显示结果\n",
    "plt.figure(figsize=(10,10),dpi=120)\n",
    "plt.subplot(121),plt.imshow(img_RGB),plt.title('image'), plt.axis('off') #坐标轴关闭\n",
    "plt.subplot(122),plt.imshow(Prewitt, cmap=plt.cm.gray ),plt.title('Prewitt'), plt.axis('off')\n",
    "plt.show()"
   ]
  },
  {
   "cell_type": "markdown",
   "metadata": {},
   "source": [
    "想象一下一个从黑到白的边界的导数正整数，而一个从白到黑的边界点的导数却是负数。如果原图像的深度是np.uint8时，所有的负值都会截断成为0，换句话说就是把边界丢失掉了。因此如果想把两种边界都检测到，最好的办法就是将输出的数据类型设置到更高，如cv2.CV_16S,cv2.CV_64F等，取绝对值然后再把它转回到cv2.CV_8U（即把本来为负的部分转为正的，在转回uint8便可以显示）"
   ]
  },
  {
   "cell_type": "code",
   "execution_count": null,
   "metadata": {},
   "outputs": [],
   "source": [
    "# Sobel算子\n",
    "x = cv2.Sobel(grayImage, cv2.CV_16S, 1, 0)  # 对x求一阶导\n",
    "y = cv2.Sobel(grayImage, cv2.CV_16S, 0, 1)  # 对y求一阶导\n",
    "absX = cv2.convertScaleAbs(x)\n",
    "absY = cv2.convertScaleAbs(y)\n",
    "Sobel = cv2.addWeighted(absX, 0.5, absY, 0.5, 0)\n",
    " \n",
    "# 显示结果\n",
    "plt.figure(figsize=(10,10),dpi=120)\n",
    "plt.subplot(121),plt.imshow(Prewitt, cmap=plt.cm.gray ),plt.title('Prewitt'), plt.axis('off')\n",
    "plt.subplot(122),plt.imshow(Sobel, cmap=plt.cm.gray ),plt.title('Sobel'), plt.axis('off')\n",
    "plt.show()"
   ]
  },
  {
   "cell_type": "markdown",
   "metadata": {},
   "source": [
    " ## 二阶求导 \n",
    " <img src=\"https://img-blog.csdnimg.cn/20200326163117463.jpg?x-oss-process=image/watermark,type_ZmFuZ3poZW5naGVpdGk,shadow_10,text_aHR0cHM6Ly9ibG9nLmNzZG4ubmV0L3UwMTA3NTE5NzQ=,size_16,color_FFFFFF,t_70#pic_center\" alt=\"图片替换文本\" width=\"700\" height=\"600\" align=\"bottom\" />"
   ]
  },
  {
   "cell_type": "code",
   "execution_count": null,
   "metadata": {},
   "outputs": [],
   "source": [
    "# 拉普拉斯算法\n",
    "dst = cv2.Laplacian(grayImage, cv2.CV_16S, ksize=3)\n",
    "Laplacian = cv2.convertScaleAbs(dst)\n",
    " \n",
    "# 显示结果\n",
    "plt.figure(figsize=(10,10),dpi=120)\n",
    "#plt.subplot(141),plt.imshow(img_RGB),plt.title('image'), plt.axis('off') #坐标轴关闭\n",
    "plt.subplot(131),plt.imshow(Prewitt, cmap=plt.cm.gray ),plt.title('Prewitt'), plt.axis('off')\n",
    "plt.subplot(132),plt.imshow(Sobel, cmap=plt.cm.gray ),plt.title('Sobel'), plt.axis('off')\n",
    "plt.subplot(133),plt.imshow(Laplacian, cmap=plt.cm.gray ),plt.title('Laplacian'), plt.axis('off')\n",
    "plt.show()"
   ]
  },
  {
   "cell_type": "markdown",
   "metadata": {},
   "source": [
    "## 卷积的应用\n",
    "  - <font color=green size=3 face=雅黑>Image Sharpening: Laplacian</font> \n",
    "  - <font color=green size=3 face=雅黑>Edge Detection: Sobel</font> \n",
    "  - <font color=green size=3 face=雅黑>Image Blurring: Median/Gaussian</font> \n",
    "  - Reading: [Bilateral Filtering](https://blog.csdn.net/piaoxuezhong/article/details/78302920)\n",
    "  "
   ]
  },
  {
   "cell_type": "markdown",
   "metadata": {},
   "source": [
    "<font color=green size=3 face=雅黑>**Gaussian Kernel**</font> \n",
    "\n",
    "* 高斯滤波是一种线性平滑滤波，适用于消除高斯噪声，高斯滤波就是对整幅图像进行加权平均的过程，每一个像素点的值，都由其本身和邻域内的其他像素值经过加权平均后得到。\n",
    "* 高斯滤波的具体操作是：用一个模板（或称卷积、掩模）扫描图像中的每一个像素，用模板确定的邻域内像素的加权平均灰度值去替代模板中心像素点的值。 \n",
    "* 高斯滤波后图像被平滑的程度取决于标准差。它的输出是领域像素的加权平均，同时离中心越近的像素权重越高。因此，相对于均值滤波（mean filter）它的平滑效果更柔和，而且边缘保留的也更好。\n",
    "\n",
    "**高斯矩阵的尺寸越大，标准差越大，处理过的图像模糊程度越大。**\n",
    "\n",
    "```python\n",
    "dst = cv.GaussianBlur(src, ksize, sigmaX[, dst[, sigmaY[, borderType]]])\n",
    "```\n",
    "\n",
    "* src: 图像矩阵\n",
    "* ksize: 滤波窗口尺寸\n",
    "* sigmax: 标准差"
   ]
  },
  {
   "cell_type": "markdown",
   "metadata": {},
   "source": [
    "\n",
    " <center>\n",
    "<img style=\"zoom:70%;\"\n",
    "src=\"高斯滤波.jpeg\">\n",
    "<br>\n",
    "<div style=\"color:black; \">  </div>\n",
    "</center>"
   ]
  },
  {
   "cell_type": "markdown",
   "metadata": {},
   "source": [
    "\n",
    " <center>\n",
    "<img style=\"zoom:90%;\"\n",
    "src=\"高斯图.webp\">\n",
    "<br>\n",
    "<div style=\"color:black; \">  </div>\n",
    "</center>"
   ]
  },
  {
   "cell_type": "code",
   "execution_count": null,
   "metadata": {
    "scrolled": true
   },
   "outputs": [],
   "source": [
    "# img(bgr) to Img(rgb) \n",
    "gauss_img = cv2.GaussianBlur(Img,(11,11),20)\n",
    "\n",
    "\n",
    "# 显示结果\n",
    "plt.figure(figsize=(10,10),dpi=120)\n",
    "plt.subplot(121),plt.imshow(Img),plt.title('image_g'), plt.axis('off') #坐标轴关闭\n",
    "plt.subplot(122),plt.imshow(gauss_img),plt.title('gauss_img'), plt.axis('off')\n",
    "plt.show()"
   ]
  },
  {
   "cell_type": "markdown",
   "metadata": {},
   "source": [
    "<font color=green size=3 face=雅黑>**查看高斯核**</font> "
   ]
  },
  {
   "cell_type": "code",
   "execution_count": null,
   "metadata": {},
   "outputs": [],
   "source": [
    "cv2.getGaussianKernel(11,20)"
   ]
  },
  {
   "cell_type": "code",
   "execution_count": null,
   "metadata": {},
   "outputs": [],
   "source": [
    "kernel_1d = cv2.getGaussianKernel(11,20)\n",
    "gl_img = cv2.sepFilter2D(Img,-1,kernel_1d,kernel_1d)\n",
    "plt.imshow(gl_img)"
   ]
  },
  {
   "cell_type": "code",
   "execution_count": null,
   "metadata": {},
   "outputs": [],
   "source": [
    "cv2.sepFilter2D?"
   ]
  },
  {
   "cell_type": "markdown",
   "metadata": {},
   "source": [
    "<font color=green size=3 face=雅黑>** laplacian**</font> "
   ]
  },
  {
   "cell_type": "code",
   "execution_count": null,
   "metadata": {
    "scrolled": true
   },
   "outputs": [],
   "source": [
    "kernel = np.array([[0,1,0],[1,-4,1],[0,1,0]])\n",
    "lap_img = cv2.filter2D(Img,-1,kernel)\n",
    "\n",
    "# 显示结果\n",
    "plt.figure(figsize=(10,10),dpi=120)\n",
    "plt.subplot(121),plt.imshow(Img, ),plt.title('Image'), plt.axis('off') #坐标轴关闭\n",
    "plt.subplot(122),plt.imshow(lap_img,cmap=plt.cm.gray ),plt.title('lap_img'), plt.axis('off')\n",
    "plt.show()"
   ]
  },
  {
   "cell_type": "code",
   "execution_count": null,
   "metadata": {},
   "outputs": [],
   "source": [
    "# 加强版\n",
    "kernel_strong = np.array([[1,1,1],[1,-8,1],[1,1,1]])\n",
    "lap_img = cv2.filter2D(Img,-1,kernel_strong)\n",
    "\n",
    "# 显示结果\n",
    "plt.figure(figsize=(10,10),dpi=120)\n",
    "plt.subplot(121),plt.imshow(Img ),plt.title('Image'), plt.axis('off') #坐标轴关闭\n",
    "plt.subplot(122),plt.imshow(lap_img,cmap=plt.cm.gray ),plt.title('lap_img'), plt.axis('off')\n",
    "plt.show()"
   ]
  },
  {
   "cell_type": "markdown",
   "metadata": {},
   "source": [
    "<font color=green size=3 face=雅黑>**图像锐化**</font> "
   ]
  },
  {
   "cell_type": "code",
   "execution_count": null,
   "metadata": {},
   "outputs": [],
   "source": [
    "kernel_strong = np.array([[-1,-1,-1],[-1,8,-1],[-1,-1,-1]])\n",
    "lap_img = cv2.filter2D(Img,-1,kernel_strong)\n",
    "\n",
    "# 显示结果\n",
    "plt.figure(figsize=(10,10),dpi=120)\n",
    "plt.subplot(121),plt.imshow(Img, ),plt.title('Image'), plt.axis('off') #坐标轴关闭\n",
    "plt.subplot(122),plt.imshow(lap_img),plt.title('lap_img'), plt.axis('off')\n",
    "plt.show()"
   ]
  },
  {
   "cell_type": "code",
   "execution_count": null,
   "metadata": {},
   "outputs": [],
   "source": [
    "kernel_strong = np.array([[0,-1,0],[-1,5,-1],[0,-1,0]])\n",
    "lap_img = cv2.filter2D(Img,-1,kernel_strong)\n",
    "\n",
    "# 显示结果\n",
    "plt.figure(figsize=(10,10),dpi=120)\n",
    "plt.subplot(121),plt.imshow(Img, ),plt.title('Image'), plt.axis('off') #坐标轴关闭\n",
    "plt.subplot(122),plt.imshow(lap_img,cmap=plt.cm.gray ),plt.title('lap_img'), plt.axis('off')\n",
    "plt.show()"
   ]
  },
  {
   "cell_type": "markdown",
   "metadata": {},
   "source": [
    "<font color=green size=3 face=雅黑>**sobel**</font> "
   ]
  },
  {
   "cell_type": "code",
   "execution_count": null,
   "metadata": {},
   "outputs": [],
   "source": [
    "y_kernel = np.array([[-1,-2,-1],[0,0,0],[1,2,1]])\n",
    "sy_img = cv2.filter2D(img,-1,y_kernel)\n",
    "\n",
    "# 显示结果\n",
    "plt.figure(figsize=(10,10),dpi=120)\n",
    "plt.subplot(121),plt.imshow(Img, ),plt.title('Image'), plt.axis('off') #坐标轴关闭\n",
    "plt.subplot(122),plt.imshow(sy_img,cmap=plt.cm.gray ),plt.title('Sy_img'), plt.axis('off')\n",
    "plt.show()"
   ]
  },
  {
   "cell_type": "code",
   "execution_count": null,
   "metadata": {},
   "outputs": [],
   "source": [
    "x_kernel = np.array([[-1,0,-1],[-2,0,2],[-1,0,1]])\n",
    "sx_img = cv2.filter2D(Img,-1,x_kernel)\n",
    "\n",
    "# 显示结果\n",
    "plt.figure(figsize=(10,10),dpi=120)\n",
    "plt.subplot(121),plt.imshow(Img, ),plt.title('Image'), plt.axis('off') #坐标轴关闭\n",
    "plt.subplot(122),plt.imshow(sx_img,cmap=plt.cm.gray ),plt.title('Sx_img'), plt.axis('off')\n",
    "plt.show()"
   ]
  },
  {
   "cell_type": "code",
   "execution_count": null,
   "metadata": {},
   "outputs": [],
   "source": [
    "plt.figure(figsize=(10,10),dpi=120)\n",
    "\n",
    "# 显示结果\n",
    "plt.figure(figsize=(10,10),dpi=120)\n",
    "plt.subplot(131),plt.imshow(Img, ),plt.title('Image'), plt.axis('off') #坐标轴关闭\n",
    "plt.subplot(132),plt.imshow(sx_img,cmap=plt.cm.gray ),plt.title('Sx_img'), plt.axis('off')\n",
    "plt.subplot(133),plt.imshow(sy_img,cmap=plt.cm.gray ),plt.title('Sy_img'), plt.axis('off')\n",
    "plt.show()"
   ]
  },
  {
   "cell_type": "markdown",
   "metadata": {},
   "source": [
    "<font color=green size=3 face=雅黑>**medianblur**</font> "
   ]
  },
  {
   "cell_type": "markdown",
   "metadata": {},
   "source": [
    "\n",
    " <center>\n",
    "<img style=\"zoom:40%;\"\n",
    "src=\"中值滤波.jpeg\">\n",
    "<br>\n",
    "<div style=\"color:black; \">  </div>\n",
    "</center>"
   ]
  },
  {
   "cell_type": "code",
   "execution_count": null,
   "metadata": {},
   "outputs": [],
   "source": [
    "md_img = cv2.medianBlur(Img,7)\n",
    "\n",
    "# 显示结果\n",
    "plt.figure(figsize=(10,10),dpi=120)\n",
    "plt.subplot(131),plt.imshow(Img),plt.title('image_g'), plt.axis('off') #坐标轴关闭\n",
    "plt.subplot(132),plt.imshow(gauss_img),plt.title('gauss_img'), plt.axis('off')\n",
    "plt.subplot(133),plt.imshow(md_img),plt.title('medianblur_img'), plt.axis('off')\n",
    "plt.show()"
   ]
  },
  {
   "cell_type": "code",
   "execution_count": null,
   "metadata": {},
   "outputs": [],
   "source": [
    "noise_img = cv2.imread('椒盐噪声图片.jpeg')\n",
    "\n",
    "noise_Img = cv2.cvtColor(noise_img, cv2.COLOR_BGR2RGB)\n",
    "plt.imshow(noise_Img)\n"
   ]
  },
  {
   "cell_type": "code",
   "execution_count": null,
   "metadata": {},
   "outputs": [],
   "source": [
    "denoise_img = cv2.medianBlur(noise_Img,7)\n",
    "plt.imshow(denoise_img)"
   ]
  },
  {
   "cell_type": "code",
   "execution_count": null,
   "metadata": {},
   "outputs": [],
   "source": [
    "denoise_img = cv2.GaussianBlur(noise_Img,(3,3),2)\n",
    "plt.imshow(denoise_img)"
   ]
  },
  {
   "cell_type": "code",
   "execution_count": null,
   "metadata": {},
   "outputs": [],
   "source": []
  }
 ],
 "metadata": {
  "kernelspec": {
   "display_name": "Python 3",
   "language": "python",
   "name": "python3"
  },
  "language_info": {
   "codemirror_mode": {
    "name": "ipython",
    "version": 3
   },
   "file_extension": ".py",
   "mimetype": "text/x-python",
   "name": "python",
   "nbconvert_exporter": "python",
   "pygments_lexer": "ipython3",
   "version": "3.6.8"
  },
  "toc": {
   "base_numbering": 1,
   "nav_menu": {},
   "number_sections": true,
   "sideBar": true,
   "skip_h1_title": false,
   "title_cell": "Table of Contents",
   "title_sidebar": "Contents",
   "toc_cell": false,
   "toc_position": {
    "height": "calc(100% - 180px)",
    "left": "10px",
    "top": "150px",
    "width": "165px"
   },
   "toc_section_display": true,
   "toc_window_display": true
  }
 },
 "nbformat": 4,
 "nbformat_minor": 2
}
